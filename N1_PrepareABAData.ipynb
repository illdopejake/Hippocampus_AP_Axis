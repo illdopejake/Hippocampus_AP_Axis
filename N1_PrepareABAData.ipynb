{
 "cells": [
  {
   "cell_type": "code",
   "execution_count": 1,
   "metadata": {
    "collapsed": true
   },
   "outputs": [],
   "source": [
    "import os\n",
    "import pandas\n",
    "#import itertools\n",
    "#import nibabel as ni\n",
    "import numpy as np\n",
    "import scipy.stats as stats\n",
    "import statsmodels.formula.api as smf\n",
    "import matplotlib.pyplot as plt\n",
    "import seaborn as sns\n",
    "from glob import glob\n",
    "#from statsmodels.sandbox.stats.multicomp import multipletests\n",
    "#from nilearn import image, input_data"
   ]
  },
  {
   "cell_type": "code",
   "execution_count": null,
   "metadata": {
    "collapsed": true
   },
   "outputs": [],
   "source": [
    "# DOWNLOAD INSTRUCTIONS"
   ]
  },
  {
   "cell_type": "code",
   "execution_count": null,
   "metadata": {
    "collapsed": true
   },
   "outputs": [],
   "source": [
    "# Inititalize data\n",
    "\n",
    "aba_dir = '/data1/users/jvogel/Allen_Human_Brain_Atlas/'\n",
    "probes = pandas.read_csv(os.path.join(aba_dir,'normalized_microarray_donor9861/Probes.csv'))"
   ]
  },
  {
   "cell_type": "code",
   "execution_count": null,
   "metadata": {
    "collapsed": true
   },
   "outputs": [],
   "source": [
    "# GET EVERYTHING INTO A GIANT DATAFRAME AND SAVE DONOR INFORMATION\n",
    "bigsheet = []\n",
    "xpsheets = sorted(glob(os.path.join(aba_dir,\n",
    "                                    'normalized_microarray_donor*/MicroarrayExpression.csv'\n",
    "                                   )))\n",
    "dids = [x.split('/')[-2].split('donor')[-1] for x in xpsheets]\n",
    "for sheet in xpsheets:\n",
    "    did = sheet.split('/')[-2].split('donor')[-1] \n",
    "    gxp = pandas.read_csv(sheet,header=None)\n",
    "    gxp.drop(gxp.columns[0],axis=1,inplace=True)\n",
    "    #gxp = gxp.loc[mprobes.index]\n",
    "    \n",
    "    # dummy variables for donor\n",
    "    for tid in dids:\n",
    "        if tid == did:\n",
    "            gxp.loc['is_%s'%tid] = 1\n",
    "        else:\n",
    "            gxp.loc['is_%s'%tid] = 0\n",
    "    bigsheet.append(gxp)\n",
    "    print('finished',did)\n",
    "    \n",
    "bigdf = pandas.concat(bigsheet,axis=1).transpose()"
   ]
  },
  {
   "cell_type": "code",
   "execution_count": null,
   "metadata": {
    "collapsed": true
   },
   "outputs": [],
   "source": [
    "# PREP FOR STATISTICAL TESTING\n",
    "bigdf.columns = ['col_%s'%x for x in bigdf.columns[:-6]] + bigdf.columns[-6:].tolist()\n",
    "resid_df = pandas.DataFrame(np.empty_like(bigdf.values),\n",
    "                            index = bigdf.index, columns=bigdf.columns)\n",
    "resid_df.iloc[:,-6:] = bigdf.iloc[:,-6:].values"
   ]
  },
  {
   "cell_type": "code",
   "execution_count": null,
   "metadata": {
    "collapsed": true
   },
   "outputs": [],
   "source": [
    "# RUN STATS (took about a minute on the work computer)\n",
    "for i,col in enumerate(bigdf.columns[:-6]):\n",
    "    resid_df.loc[:,col] = smf.ols('%s ~ is_10021 + is_12876 + is_14380 + is_15496 + is_15697'%(col), \n",
    "                                  data=bigdf).fit().resid\n",
    "    print(i)"
   ]
  },
  {
   "cell_type": "code",
   "execution_count": null,
   "metadata": {
    "collapsed": true
   },
   "outputs": [],
   "source": [
    "# SAVE BACK INTO SPREADSHEETS\n",
    "dfz = {}\n",
    "for col in resid_df.columns[-6:]:\n",
    "    did = col.split('_')[-1]\n",
    "    #ddir = '/data1/users/jvogel/Allen_Human_Brain_Atlas/normalized_microarray_donor%s'%did\n",
    "    refsht = os.path.join(ddir,'MicroarrayExpression.csv')\n",
    "    print('loading reference csv')\n",
    "    gxp = pandas.read_csv(refsht,header=None)\n",
    "    gxp.drop(gxp.columns[0],axis=1,inplace=True)\n",
    "    gxp = gxp.loc[mprobes.index]\n",
    "    ndf = resid_df[resid_df[col]==1][resid_df.columns[:-6]].transpose()                            \n",
    "    ndf.index = gxp.index                        \n",
    "    ndf.columns = gxp.columns  \n",
    "    print('saving new csv')\n",
    "    #ndf.to_csv(os.path.join(ddir,'MExp_17k_genes_ctr_for_donor'))\n",
    "    dfz.update({did: ndf})\n",
    "    print('finished',did)"
   ]
  },
  {
   "cell_type": "code",
   "execution_count": null,
   "metadata": {
    "collapsed": true
   },
   "outputs": [],
   "source": []
  }
 ],
 "metadata": {
  "kernelspec": {
   "display_name": "Python [conda env:py3]",
   "language": "python",
   "name": "conda-env-py3-py"
  },
  "language_info": {
   "codemirror_mode": {
    "name": "ipython",
    "version": 3
   },
   "file_extension": ".py",
   "mimetype": "text/x-python",
   "name": "python",
   "nbconvert_exporter": "python",
   "pygments_lexer": "ipython3",
   "version": "3.5.2"
  }
 },
 "nbformat": 4,
 "nbformat_minor": 2
}
