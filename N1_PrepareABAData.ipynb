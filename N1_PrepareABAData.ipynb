{
 "cells": [
  {
   "cell_type": "code",
   "execution_count": 1,
   "metadata": {},
   "outputs": [
    {
     "name": "stderr",
     "output_type": "stream",
     "text": [
      "/home/users/jvogel/anaconda2/envs/Hipp/lib/python3.6/site-packages/h5py/__init__.py:36: FutureWarning: Conversion of the second argument of issubdtype from `float` to `np.floating` is deprecated. In future, it will be treated as `np.float64 == np.dtype(float).type`.\n",
      "  from ._conv import register_converters as _register_converters\n"
     ]
    }
   ],
   "source": [
    "import os\n",
    "import pandas\n",
    "import nibabel as ni\n",
    "import numpy as np\n",
    "import scipy.stats as stats\n",
    "import statsmodels.formula.api as smf\n",
    "import matplotlib.pyplot as plt\n",
    "import seaborn as sns\n",
    "from glob import glob\n",
    "from scipy.spatial import KDTree"
   ]
  },
  {
   "cell_type": "code",
   "execution_count": 4,
   "metadata": {},
   "outputs": [],
   "source": [
    "import warnings\n",
    "warnings.filterwarnings('ignore')"
   ]
  },
  {
   "cell_type": "code",
   "execution_count": 5,
   "metadata": {},
   "outputs": [],
   "source": [
    "# Your git directory here:\n",
    "git_dir = '/home/users/jvogel/git/Hippocampus_AP_Axis/'\n",
    "\n",
    "import sys\n",
    "sys.path.insert(0,git_dir)\n",
    "import HAP_Utils as hap"
   ]
  },
  {
   "cell_type": "markdown",
   "metadata": {
    "collapsed": true
   },
   "source": [
    "# DOWNLOAD INSTRUCTIONS\n",
    "\n",
    "* Go to http://human.brain-map.org/static/download\n",
    "* Under the subheading \"Complete normalized microarray datasets\", click each donor link to download microarray gene expression data for that subject (e.g. H0351.2001)\n",
    "* Unzip and move these folders to a single location\n",
    "\n",
    "To get the renormalized sample coordinates:\n",
    "-----------------------------\n",
    "* Go to https://github.com/gdevenyi/AllenHumanGeneMNI\n",
    "* Clone or download the respository"
   ]
  },
  {
   "cell_type": "markdown",
   "metadata": {},
   "source": [
    "# Inititalize data"
   ]
  },
  {
   "cell_type": "code",
   "execution_count": 6,
   "metadata": {
    "collapsed": true
   },
   "outputs": [],
   "source": [
    "# Enter the path for the directory where you stored your file downloads\n",
    "aba_dir = '/data1/users/jvogel/Allen_Human_Brain_Atlas/'\n",
    "\n",
    "probes = pandas.read_csv(os.path.join(aba_dir,'normalized_microarray_donor9861/Probes.csv'))"
   ]
  },
  {
   "cell_type": "markdown",
   "metadata": {},
   "source": [
    "#### GET EVERYTHING INTO A GIANT DATAFRAME AND SAVE DONOR INFORMATION FOR REGRESSION"
   ]
  },
  {
   "cell_type": "code",
   "execution_count": 7,
   "metadata": {},
   "outputs": [
    {
     "name": "stdout",
     "output_type": "stream",
     "text": [
      "finished 10021\n",
      "finished 12876\n",
      "finished 14380\n",
      "finished 15496\n",
      "finished 15697\n",
      "finished 9861\n"
     ]
    }
   ],
   "source": [
    "\n",
    "bigsheet = []\n",
    "xpsheets = sorted(glob(os.path.join(aba_dir,\n",
    "                                    'normalized_microarray_donor*/MicroarrayExpression.csv'\n",
    "                                   ))) # collect gene expression data\n",
    "dids = [x.split('/')[-2].split('donor')[-1] for x in xpsheets] # donor IDs\n",
    "\n",
    "# Turn each csv into a dataframe, add donor ID, and concatenate into one big DataFrame\n",
    "for sheet in xpsheets:\n",
    "    did = sheet.split('/')[-2].split('donor')[-1] # get donor id\n",
    "    gxp = pandas.read_csv(sheet,header=None)\n",
    "    gxp.drop(gxp.columns[0],axis=1,inplace=True)\n",
    "    \n",
    "    # create dummy variables for donor\n",
    "    for tid in dids:\n",
    "        if tid == did:\n",
    "            gxp.loc['is_%s'%tid] = 1\n",
    "        else:\n",
    "            gxp.loc['is_%s'%tid] = 0\n",
    "    bigsheet.append(gxp)\n",
    "    print('finished',did)\n",
    "    \n",
    "bigdf = pandas.concat(bigsheet,axis=1).transpose()"
   ]
  },
  {
   "cell_type": "markdown",
   "metadata": {},
   "source": [
    "# Regress out donor effects\n",
    "Here, we want to remove donor-specific separately for each probe."
   ]
  },
  {
   "cell_type": "code",
   "execution_count": 8,
   "metadata": {
    "collapsed": true
   },
   "outputs": [],
   "source": [
    "# PREP FOR REGRESSION\n",
    "bigdf.columns = ['col_%s'%x for x in bigdf.columns[:-6]] + bigdf.columns[-6:].tolist()\n",
    "resid_df = pandas.DataFrame(np.empty_like(bigdf.values),\n",
    "                            index = bigdf.index, columns=bigdf.columns)\n",
    "resid_df.iloc[:,-6:] = bigdf.iloc[:,-6:].values"
   ]
  },
  {
   "cell_type": "code",
   "execution_count": 9,
   "metadata": {},
   "outputs": [
    {
     "name": "stdout",
     "output_type": "stream",
     "text": [
      "0\n",
      "1000\n",
      "2000\n",
      "3000\n",
      "4000\n",
      "5000\n",
      "6000\n",
      "7000\n",
      "8000\n",
      "9000\n",
      "10000\n",
      "11000\n",
      "12000\n",
      "13000\n",
      "14000\n",
      "15000\n",
      "16000\n",
      "17000\n",
      "18000\n",
      "19000\n",
      "20000\n",
      "21000\n",
      "22000\n",
      "23000\n",
      "24000\n",
      "25000\n",
      "26000\n",
      "27000\n",
      "28000\n",
      "29000\n",
      "30000\n",
      "31000\n",
      "32000\n",
      "33000\n",
      "34000\n",
      "35000\n",
      "36000\n",
      "37000\n",
      "38000\n",
      "39000\n",
      "40000\n",
      "41000\n",
      "42000\n",
      "43000\n",
      "44000\n",
      "45000\n",
      "46000\n",
      "47000\n",
      "48000\n",
      "49000\n",
      "50000\n",
      "51000\n",
      "52000\n",
      "53000\n",
      "54000\n",
      "55000\n",
      "56000\n",
      "57000\n",
      "58000\n"
     ]
    }
   ],
   "source": [
    "# RUN STATS (took about 5-10 minute on the work computer)\n",
    "for i,col in enumerate(bigdf.columns[:-6]):\n",
    "    resid_df.loc[:,col] = smf.ols('%s ~ is_10021 + is_12876 + is_14380 + is_15496 + is_15697'%(col), \n",
    "                                  data=bigdf).fit().resid\n",
    "    if i % 1000 == 0:\n",
    "        print(i)"
   ]
  },
  {
   "cell_type": "code",
   "execution_count": 7,
   "metadata": {},
   "outputs": [
    {
     "name": "stdout",
     "output_type": "stream",
     "text": [
      "loading reference csv\n",
      "saving new csv\n",
      "finished 10021\n",
      "loading reference csv\n",
      "saving new csv\n",
      "finished 12876\n",
      "loading reference csv\n",
      "saving new csv\n",
      "finished 14380\n",
      "loading reference csv\n",
      "saving new csv\n",
      "finished 15496\n",
      "loading reference csv\n",
      "saving new csv\n",
      "finished 15697\n",
      "loading reference csv\n",
      "saving new csv\n",
      "finished 9861\n"
     ]
    }
   ],
   "source": [
    "# SAVE BACK INTO SPREADSHEETS\n",
    "dfz = {}\n",
    "for col in resid_df.columns[-6:]:\n",
    "    did = col.split('_')[-1]\n",
    "    ddir = os.path.join(aba_dir,'normalized_microarray_donor%s'%did)\n",
    "    refsht = os.path.join(ddir,'MicroarrayExpression.csv')\n",
    "    print('loading reference csv')\n",
    "    gxp = pandas.read_csv(refsht,header=None)\n",
    "    gxp.drop(gxp.columns[0],axis=1,inplace=True)\n",
    "    ndf = resid_df[resid_df[col]==1][resid_df.columns[:-6]].transpose()                            \n",
    "    ndf.index = gxp.index                        \n",
    "    ndf.columns = gxp.columns  \n",
    "    print('saving new csv')\n",
    "    ndf.to_csv(os.path.join(ddir,'MExp_genes_ctr_for_donor'))\n",
    "    dfz.update({did: ndf})\n",
    "    print('finished',did)"
   ]
  },
  {
   "cell_type": "markdown",
   "metadata": {},
   "source": [
    "# Create DataFrames for subsequent use"
   ]
  },
  {
   "cell_type": "markdown",
   "metadata": {},
   "source": [
    "### Sample reference information with corrected coordinates"
   ]
  },
  {
   "cell_type": "code",
   "execution_count": 55,
   "metadata": {
    "collapsed": true
   },
   "outputs": [],
   "source": [
    "donor_key = {'H0351.2002': '10021', 'H0351.2001': '9861',\n",
    "             'H0351.1009': '12876', 'H0351.1012': '14380',\n",
    "             'H0351.1015': '15496', 'H0351.1016': '15697'}"
   ]
  },
  {
   "cell_type": "code",
   "execution_count": 30,
   "metadata": {
    "collapsed": true
   },
   "outputs": [],
   "source": [
    "# ENTER PATH TO GIT REPOSITORY CONTAINING COORDINATES\n",
    "coord_pth = '/home/users/jvogel/git/AllenHumanGeneMNI/'"
   ]
  },
  {
   "cell_type": "code",
   "execution_count": 57,
   "metadata": {},
   "outputs": [],
   "source": [
    "sasheets = sorted(glob(os.path.join(coord_pth,'transformed-points/recombine/*SampleAnnot.csv')))"
   ]
  },
  {
   "cell_type": "code",
   "execution_count": 58,
   "metadata": {},
   "outputs": [],
   "source": [
    "ref = []\n",
    "for sheet in sasheets:\n",
    "    did = donor_key[sheet.split('/')[-1].split('_')[0]]\n",
    "    sa = pandas.read_csv(sheet)\n",
    "    sa.loc[:,'donor'] = [did for x in range(len(sa))]\n",
    "    sa.loc[:,'sample'] = [x for x in range(1,len(sa)+1)]\n",
    "    ref.append(sa)\n",
    "SA = pandas.concat(ref).sort_values(['donor','sample'])\n",
    "SA.index = range(len(SA))"
   ]
  },
  {
   "cell_type": "code",
   "execution_count": 59,
   "metadata": {},
   "outputs": [
    {
     "data": {
      "text/html": [
       "<div>\n",
       "<style>\n",
       "    .dataframe thead tr:only-child th {\n",
       "        text-align: right;\n",
       "    }\n",
       "\n",
       "    .dataframe thead th {\n",
       "        text-align: left;\n",
       "    }\n",
       "\n",
       "    .dataframe tbody tr th {\n",
       "        vertical-align: top;\n",
       "    }\n",
       "</style>\n",
       "<table border=\"1\" class=\"dataframe\">\n",
       "  <thead>\n",
       "    <tr style=\"text-align: right;\">\n",
       "      <th></th>\n",
       "      <th>structure_id</th>\n",
       "      <th>slab_num</th>\n",
       "      <th>well_id</th>\n",
       "      <th>slab_type</th>\n",
       "      <th>structure_acronym</th>\n",
       "      <th>structure_name</th>\n",
       "      <th>polygon_id</th>\n",
       "      <th>mri_voxel_x</th>\n",
       "      <th>mri_voxel_y</th>\n",
       "      <th>mri_voxel_z</th>\n",
       "      <th>mni_x</th>\n",
       "      <th>mni_y</th>\n",
       "      <th>mni_z</th>\n",
       "      <th>mni_nlin_x</th>\n",
       "      <th>mni_nlin_y</th>\n",
       "      <th>mni_nlin_z</th>\n",
       "      <th>donor</th>\n",
       "      <th>sample</th>\n",
       "    </tr>\n",
       "  </thead>\n",
       "  <tbody>\n",
       "    <tr>\n",
       "      <th>0</th>\n",
       "      <td>4322</td>\n",
       "      <td>10</td>\n",
       "      <td>5705</td>\n",
       "      <td>CX</td>\n",
       "      <td>Cl</td>\n",
       "      <td>claustrum, left</td>\n",
       "      <td>978619</td>\n",
       "      <td>120</td>\n",
       "      <td>91</td>\n",
       "      <td>71</td>\n",
       "      <td>-29.2</td>\n",
       "      <td>5.8</td>\n",
       "      <td>-2.6</td>\n",
       "      <td>-30.556682</td>\n",
       "      <td>4.815207</td>\n",
       "      <td>-3.825961</td>\n",
       "      <td>10021</td>\n",
       "      <td>1</td>\n",
       "    </tr>\n",
       "    <tr>\n",
       "      <th>1</th>\n",
       "      <td>4291</td>\n",
       "      <td>10</td>\n",
       "      <td>5713</td>\n",
       "      <td>CX</td>\n",
       "      <td>Acb</td>\n",
       "      <td>nucleus accumbens, left</td>\n",
       "      <td>998603</td>\n",
       "      <td>103</td>\n",
       "      <td>96</td>\n",
       "      <td>71</td>\n",
       "      <td>-10.1</td>\n",
       "      <td>5.9</td>\n",
       "      <td>-8.4</td>\n",
       "      <td>-11.959526</td>\n",
       "      <td>4.812381</td>\n",
       "      <td>-9.908026</td>\n",
       "      <td>10021</td>\n",
       "      <td>2</td>\n",
       "    </tr>\n",
       "    <tr>\n",
       "      <th>2</th>\n",
       "      <td>4292</td>\n",
       "      <td>10</td>\n",
       "      <td>5721</td>\n",
       "      <td>CX</td>\n",
       "      <td>Acb</td>\n",
       "      <td>nucleus accumbens, right</td>\n",
       "      <td>998604</td>\n",
       "      <td>86</td>\n",
       "      <td>95</td>\n",
       "      <td>69</td>\n",
       "      <td>8.9</td>\n",
       "      <td>8.5</td>\n",
       "      <td>-7.4</td>\n",
       "      <td>9.525111</td>\n",
       "      <td>6.206098</td>\n",
       "      <td>-10.330865</td>\n",
       "      <td>10021</td>\n",
       "      <td>3</td>\n",
       "    </tr>\n",
       "    <tr>\n",
       "      <th>3</th>\n",
       "      <td>4292</td>\n",
       "      <td>11</td>\n",
       "      <td>5729</td>\n",
       "      <td>CX</td>\n",
       "      <td>Acb</td>\n",
       "      <td>nucleus accumbens, right</td>\n",
       "      <td>999200</td>\n",
       "      <td>87</td>\n",
       "      <td>95</td>\n",
       "      <td>76</td>\n",
       "      <td>7.9</td>\n",
       "      <td>0.8</td>\n",
       "      <td>-6.7</td>\n",
       "      <td>8.037896</td>\n",
       "      <td>-0.206559</td>\n",
       "      <td>-9.481507</td>\n",
       "      <td>10021</td>\n",
       "      <td>4</td>\n",
       "    </tr>\n",
       "    <tr>\n",
       "      <th>4</th>\n",
       "      <td>4314</td>\n",
       "      <td>11</td>\n",
       "      <td>5737</td>\n",
       "      <td>CX</td>\n",
       "      <td>SI</td>\n",
       "      <td>substantia innominata, right</td>\n",
       "      <td>992030</td>\n",
       "      <td>79</td>\n",
       "      <td>97</td>\n",
       "      <td>76</td>\n",
       "      <td>16.9</td>\n",
       "      <td>0.9</td>\n",
       "      <td>-9.1</td>\n",
       "      <td>17.459030</td>\n",
       "      <td>-0.798126</td>\n",
       "      <td>-12.156898</td>\n",
       "      <td>10021</td>\n",
       "      <td>5</td>\n",
       "    </tr>\n",
       "  </tbody>\n",
       "</table>\n",
       "</div>"
      ],
      "text/plain": [
       "   structure_id  slab_num  well_id slab_type structure_acronym  \\\n",
       "0          4322        10     5705        CX                Cl   \n",
       "1          4291        10     5713        CX               Acb   \n",
       "2          4292        10     5721        CX               Acb   \n",
       "3          4292        11     5729        CX               Acb   \n",
       "4          4314        11     5737        CX                SI   \n",
       "\n",
       "                 structure_name  polygon_id  mri_voxel_x  mri_voxel_y  \\\n",
       "0               claustrum, left      978619          120           91   \n",
       "1       nucleus accumbens, left      998603          103           96   \n",
       "2      nucleus accumbens, right      998604           86           95   \n",
       "3      nucleus accumbens, right      999200           87           95   \n",
       "4  substantia innominata, right      992030           79           97   \n",
       "\n",
       "   mri_voxel_z  mni_x  mni_y  mni_z  mni_nlin_x  mni_nlin_y  mni_nlin_z  \\\n",
       "0           71  -29.2    5.8   -2.6  -30.556682    4.815207   -3.825961   \n",
       "1           71  -10.1    5.9   -8.4  -11.959526    4.812381   -9.908026   \n",
       "2           69    8.9    8.5   -7.4    9.525111    6.206098  -10.330865   \n",
       "3           76    7.9    0.8   -6.7    8.037896   -0.206559   -9.481507   \n",
       "4           76   16.9    0.9   -9.1   17.459030   -0.798126  -12.156898   \n",
       "\n",
       "   donor  sample  \n",
       "0  10021       1  \n",
       "1  10021       2  \n",
       "2  10021       3  \n",
       "3  10021       4  \n",
       "4  10021       5  "
      ]
     },
     "execution_count": 59,
     "metadata": {},
     "output_type": "execute_result"
    }
   ],
   "source": [
    "SA.head()"
   ]
  },
  {
   "cell_type": "code",
   "execution_count": 60,
   "metadata": {
    "collapsed": true
   },
   "outputs": [],
   "source": [
    "data_dir = os.path.join(git_dir,'Data')\n",
    "SA.to_csv(os.path.join(data_dir,'MAIN_gcx_wholebrain_info.csv'))"
   ]
  },
  {
   "cell_type": "markdown",
   "metadata": {},
   "source": [
    "### Find hippocampus coordinates"
   ]
  },
  {
   "cell_type": "code",
   "execution_count": 61,
   "metadata": {},
   "outputs": [
    {
     "data": {
      "text/html": [
       "<div>\n",
       "<style>\n",
       "    .dataframe thead tr:only-child th {\n",
       "        text-align: right;\n",
       "    }\n",
       "\n",
       "    .dataframe thead th {\n",
       "        text-align: left;\n",
       "    }\n",
       "\n",
       "    .dataframe tbody tr th {\n",
       "        vertical-align: top;\n",
       "    }\n",
       "</style>\n",
       "<table border=\"1\" class=\"dataframe\">\n",
       "  <thead>\n",
       "    <tr style=\"text-align: right;\">\n",
       "      <th></th>\n",
       "      <th>structure_id</th>\n",
       "      <th>slab_num</th>\n",
       "      <th>well_id</th>\n",
       "      <th>slab_type</th>\n",
       "      <th>structure_acronym</th>\n",
       "      <th>structure_name</th>\n",
       "      <th>polygon_id</th>\n",
       "      <th>mri_voxel_x</th>\n",
       "      <th>mri_voxel_y</th>\n",
       "      <th>mri_voxel_z</th>\n",
       "      <th>mni_x</th>\n",
       "      <th>mni_y</th>\n",
       "      <th>mni_z</th>\n",
       "      <th>mni_nlin_x</th>\n",
       "      <th>mni_nlin_y</th>\n",
       "      <th>mni_nlin_z</th>\n",
       "      <th>donor</th>\n",
       "      <th>sample</th>\n",
       "    </tr>\n",
       "  </thead>\n",
       "  <tbody>\n",
       "    <tr>\n",
       "      <th>19</th>\n",
       "      <td>4263</td>\n",
       "      <td>17</td>\n",
       "      <td>5707</td>\n",
       "      <td>CX</td>\n",
       "      <td>CA1</td>\n",
       "      <td>CA1 field, right</td>\n",
       "      <td>1001646</td>\n",
       "      <td>77</td>\n",
       "      <td>89</td>\n",
       "      <td>116</td>\n",
       "      <td>19.5</td>\n",
       "      <td>-42.4</td>\n",
       "      <td>4.3</td>\n",
       "      <td>21.876385</td>\n",
       "      <td>-42.363260</td>\n",
       "      <td>4.710402</td>\n",
       "      <td>10021</td>\n",
       "      <td>20</td>\n",
       "    </tr>\n",
       "    <tr>\n",
       "      <th>20</th>\n",
       "      <td>4264</td>\n",
       "      <td>17</td>\n",
       "      <td>5715</td>\n",
       "      <td>CX</td>\n",
       "      <td>CA2</td>\n",
       "      <td>CA2 field, right</td>\n",
       "      <td>1001641</td>\n",
       "      <td>75</td>\n",
       "      <td>86</td>\n",
       "      <td>115</td>\n",
       "      <td>21.7</td>\n",
       "      <td>-41.2</td>\n",
       "      <td>7.7</td>\n",
       "      <td>23.899152</td>\n",
       "      <td>-40.879051</td>\n",
       "      <td>8.176524</td>\n",
       "      <td>10021</td>\n",
       "      <td>21</td>\n",
       "    </tr>\n",
       "    <tr>\n",
       "      <th>21</th>\n",
       "      <td>4265</td>\n",
       "      <td>17</td>\n",
       "      <td>5723</td>\n",
       "      <td>CX</td>\n",
       "      <td>CA3</td>\n",
       "      <td>CA3 field, right</td>\n",
       "      <td>1001496</td>\n",
       "      <td>76</td>\n",
       "      <td>86</td>\n",
       "      <td>115</td>\n",
       "      <td>20.6</td>\n",
       "      <td>-41.2</td>\n",
       "      <td>7.7</td>\n",
       "      <td>22.703225</td>\n",
       "      <td>-40.994060</td>\n",
       "      <td>8.301460</td>\n",
       "      <td>10021</td>\n",
       "      <td>22</td>\n",
       "    </tr>\n",
       "    <tr>\n",
       "      <th>22</th>\n",
       "      <td>4266</td>\n",
       "      <td>17</td>\n",
       "      <td>5731</td>\n",
       "      <td>CX</td>\n",
       "      <td>CA4</td>\n",
       "      <td>CA4 field, right</td>\n",
       "      <td>1001475</td>\n",
       "      <td>76</td>\n",
       "      <td>87</td>\n",
       "      <td>115</td>\n",
       "      <td>20.6</td>\n",
       "      <td>-41.2</td>\n",
       "      <td>6.6</td>\n",
       "      <td>22.928779</td>\n",
       "      <td>-41.054804</td>\n",
       "      <td>7.141831</td>\n",
       "      <td>10021</td>\n",
       "      <td>23</td>\n",
       "    </tr>\n",
       "    <tr>\n",
       "      <th>23</th>\n",
       "      <td>4267</td>\n",
       "      <td>17</td>\n",
       "      <td>5739</td>\n",
       "      <td>CX</td>\n",
       "      <td>DG</td>\n",
       "      <td>dentate gyrus, right</td>\n",
       "      <td>998739</td>\n",
       "      <td>75</td>\n",
       "      <td>87</td>\n",
       "      <td>115</td>\n",
       "      <td>21.8</td>\n",
       "      <td>-41.2</td>\n",
       "      <td>6.6</td>\n",
       "      <td>24.115367</td>\n",
       "      <td>-40.962119</td>\n",
       "      <td>7.018704</td>\n",
       "      <td>10021</td>\n",
       "      <td>24</td>\n",
       "    </tr>\n",
       "  </tbody>\n",
       "</table>\n",
       "</div>"
      ],
      "text/plain": [
       "    structure_id  slab_num  well_id slab_type structure_acronym  \\\n",
       "19          4263        17     5707        CX               CA1   \n",
       "20          4264        17     5715        CX               CA2   \n",
       "21          4265        17     5723        CX               CA3   \n",
       "22          4266        17     5731        CX               CA4   \n",
       "23          4267        17     5739        CX                DG   \n",
       "\n",
       "          structure_name  polygon_id  mri_voxel_x  mri_voxel_y  mri_voxel_z  \\\n",
       "19      CA1 field, right     1001646           77           89          116   \n",
       "20      CA2 field, right     1001641           75           86          115   \n",
       "21      CA3 field, right     1001496           76           86          115   \n",
       "22      CA4 field, right     1001475           76           87          115   \n",
       "23  dentate gyrus, right      998739           75           87          115   \n",
       "\n",
       "    mni_x  mni_y  mni_z  mni_nlin_x  mni_nlin_y  mni_nlin_z  donor  sample  \n",
       "19   19.5  -42.4    4.3   21.876385  -42.363260    4.710402  10021      20  \n",
       "20   21.7  -41.2    7.7   23.899152  -40.879051    8.176524  10021      21  \n",
       "21   20.6  -41.2    7.7   22.703225  -40.994060    8.301460  10021      22  \n",
       "22   20.6  -41.2    6.6   22.928779  -41.054804    7.141831  10021      23  \n",
       "23   21.8  -41.2    6.6   24.115367  -40.962119    7.018704  10021      24  "
      ]
     },
     "execution_count": 61,
     "metadata": {},
     "output_type": "execute_result"
    }
   ],
   "source": [
    "hipp_structures = ['CA1','CA2','CA3','CA4','DG','S']\n",
    "hipp_df = pandas.DataFrame(SA[SA.structure_acronym.isin(hipp_structures)], copy=True)\n",
    "hipp_df.head()"
   ]
  },
  {
   "cell_type": "markdown",
   "metadata": {},
   "source": [
    "### Make sure they are are inside of, or within three mm of, the hippocampus"
   ]
  },
  {
   "cell_type": "code",
   "execution_count": 62,
   "metadata": {
    "collapsed": true
   },
   "outputs": [],
   "source": [
    "# Isolate hippocampus\n",
    "HO = ni.load(os.path.join(data_dir,'HarvardOxford-sub-maxprob-thr25-1mm.nii.gz')).get_data()\n",
    "hipps = np.zeros_like(HO)\n",
    "hipps[HO==9] = 1\n",
    "hipps[HO==19] = 1\n",
    "hipp_coords = np.where(hipps==1)"
   ]
  },
  {
   "cell_type": "code",
   "execution_count": 63,
   "metadata": {},
   "outputs": [],
   "source": [
    "# Get XYZ coordinates of each hippocampus samples\n",
    "sample_coords = []\n",
    "for i,row in hipp_df.iterrows():\n",
    "    coords = hap.convert_coords([row['mni_nlin_x'], \n",
    "                     row['mni_nlin_y'], \n",
    "                     row['mni_nlin_z']], \n",
    "                    'xyz')\n",
    "    sample_coords.append([round(x) for x in coords])"
   ]
  },
  {
   "cell_type": "code",
   "execution_count": 64,
   "metadata": {
    "collapsed": true
   },
   "outputs": [],
   "source": [
    "# compute distance shortest distance of each sample\n",
    "\n",
    "# convert to format that KDTree likes\n",
    "hipp_cs = [(hipp_coords[0][x],\n",
    "            hipp_coords[1][x],\n",
    "            hipp_coords[2][x]) for x in range(len(hipp_coords[0]))]\n",
    "\n",
    "# make KDTree\n",
    "tree = KDTree(hipp_cs)\n",
    "\n",
    "# compute distances\n",
    "dists = [tree.query(x)[0] for x in sample_coords]"
   ]
  },
  {
   "cell_type": "code",
   "execution_count": 65,
   "metadata": {},
   "outputs": [
    {
     "data": {
      "image/png": "[encoded data removed]",
      "text/plain": [
       "<Figure size 432x288 with 1 Axes>"
      ]
     },
     "metadata": {},
     "output_type": "display_data"
    }
   ],
   "source": [
    "# Make sure most distances are small\n",
    "\n",
    "plt.close()\n",
    "sns.distplot(dists, kde=False)\n",
    "plt.xlabel('distance (mm) from hippocampus mask')\n",
    "plt.ylabel('N samples')\n",
    "plt.show()"
   ]
  },
  {
   "cell_type": "markdown",
   "metadata": {},
   "source": [
    "### Dataframe with Gene expression for (good) hippocampus samples only"
   ]
  },
  {
   "cell_type": "code",
   "execution_count": 66,
   "metadata": {
    "collapsed": true
   },
   "outputs": [],
   "source": [
    "# get index of coords that are within 3mm (rounded) to the hippocampus mask\n",
    "good_ind = [x for x in range(len(dists)) if dists[x] < 3.49] # list indices\n",
    "good_hipp_df = hipp_df.iloc[good_ind] \n"
   ]
  },
  {
   "cell_type": "code",
   "execution_count": 67,
   "metadata": {},
   "outputs": [],
   "source": [
    "# For some reason, I apparently got rid of another coordinate, \n",
    "# so the following will match what was used for analysis in the paper\n",
    "todrop = good_hipp_df[(good_hipp_df.donor=='14380') & (good_hipp_df['sample']==220)].index\n",
    "good_hipp_df.drop(todrop,inplace=True)"
   ]
  },
  {
   "cell_type": "code",
   "execution_count": 33,
   "metadata": {
    "collapsed": true
   },
   "outputs": [],
   "source": [
    "# save it\n",
    "good_hipp_df.to_csv(os.path.join(data_dir,'MAIN_hippocampus_sample_info.csv'))"
   ]
  },
  {
   "cell_type": "code",
   "execution_count": 68,
   "metadata": {
    "collapsed": true
   },
   "outputs": [],
   "source": [
    "# Make dataframe\n",
    "hxp = resid_df.iloc[good_hipp_df.index][bigdf.columns[:-6]].T\n",
    "hxp.index = range(len(hxp))\n",
    "hxp.columns = ['%s_%s'%(good_hipp_df.loc[x,'donor'], \n",
    "                        good_hipp_df.loc[x,'sample']\n",
    "                       ) for x in good_hipp_df.index]"
   ]
  },
  {
   "cell_type": "code",
   "execution_count": 143,
   "metadata": {
    "collapsed": true
   },
   "outputs": [],
   "source": [
    "# Save it to our Data directory\n",
    "hxp.to_csv(os.path.join(data_dir,'MAIN_hippocampus_gxp.csv'))"
   ]
  }
 ],
 "metadata": {
  "kernelspec": {
   "display_name": "Python 3",
   "language": "python",
   "name": "python3"
  },
  "language_info": {
   "codemirror_mode": {
    "name": "ipython",
    "version": 3
   },
   "file_extension": ".py",
   "mimetype": "text/x-python",
   "name": "python",
   "nbconvert_exporter": "python",
   "pygments_lexer": "ipython3",
   "version": "3.6.2"
  }
 },
 "nbformat": 4,
 "nbformat_minor": 2
}
